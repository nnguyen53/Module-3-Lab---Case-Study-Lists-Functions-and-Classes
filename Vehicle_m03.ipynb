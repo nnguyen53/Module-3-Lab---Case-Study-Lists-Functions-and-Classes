{
 "cells": [
  {
   "cell_type": "code",
   "execution_count": 12,
   "id": "a2e7d8ca-2ca1-4209-9614-667fd6e11366",
   "metadata": {},
   "outputs": [
    {
     "name": "stdout",
     "output_type": "stream",
     "text": [
      "Welcome to car selection app\n"
     ]
    },
    {
     "name": "stdin",
     "output_type": "stream",
     "text": [
      "Enter the type of vehicle (car, truck, plane, boat, broomstick):  car\n",
      "Enter the year:  2022\n",
      "Enter the make:  Toyota\n",
      "Enter the model:  Camry\n",
      "Enter the number of doors (2 or 4):  3\n"
     ]
    },
    {
     "name": "stdout",
     "output_type": "stream",
     "text": [
      "Invalid input. Please enter 2 or 4.\n"
     ]
    },
    {
     "name": "stdin",
     "output_type": "stream",
     "text": [
      "Enter the number of doors (2 or 4):  2\n",
      "Enter the type of roof (solid or sun roof):  soliddd\n"
     ]
    },
    {
     "name": "stdout",
     "output_type": "stream",
     "text": [
      "Invalid input. Please enter 'solid' or 'sun roof'.\n"
     ]
    },
    {
     "name": "stdin",
     "output_type": "stream",
     "text": [
      "Enter the type of roof (solid or sun roof):  solid\n"
     ]
    },
    {
     "name": "stdout",
     "output_type": "stream",
     "text": [
      "\n",
      "Here is the information about your vehicle:\n",
      "  Vehicle type: car\n",
      "  Year: 2022\n",
      "  Make: Toyota\n",
      "  Model: Camry\n",
      "  Number of doors: 2\n",
      "  Type of roof: solid\n"
     ]
    }
   ],
   "source": [
    "class Vehicle():\n",
    "    def __init__(self, vehicle_type):\n",
    "        self.vehicle_type = vehicle_type\n",
    "\n",
    "class Automobile(Vehicle):\n",
    "    def __init__(self, vehicle_type, year, make, model, doors, roof):\n",
    "        super().__init__(vehicle_type)\n",
    "        self.year = year\n",
    "        self.make = make\n",
    "        self.model = model\n",
    "        self.doors = doors\n",
    "        self.roof = roof\n",
    "\n",
    "#App\n",
    "\n",
    "print(\"Welcome to car selection app\")\n",
    "\n",
    "# Vehicle type\n",
    "vehicle_type = input(\"Enter the type of vehicle (car, truck, plane, boat, broomstick): \")\n",
    "year = input(\"Enter the year: \")\n",
    "make = input(\"Enter the make: \")\n",
    "model = input(\"Enter the model: \")\n",
    "\n",
    "doors = input(\"Enter the number of doors (2 or 4): \")\n",
    "if doors == \"2\" or doors == \"4\":\n",
    "    doors = int(doors)\n",
    "else:\n",
    "    print(\"Invalid input. Please enter 2 or 4.\")\n",
    "    doors = int(input(\"Enter the number of doors (2 or 4): \"))\n",
    "\n",
    "roof = input(\"Enter the type of roof (solid or sun roof): \")\n",
    "if roof != \"solid\" and roof != \"sun roof\":\n",
    "    print(\"Invalid input. Please enter 'solid' or 'sun roof'.\")\n",
    "    roof = input(\"Enter the type of roof (solid or sun roof): \")\n",
    "\n",
    "my_vehicle = Automobile(vehicle_type, year, make, model, doors, roof)\n",
    "\n",
    "print(\"\\nHere is the information about your vehicle:\")\n",
    "print(f\"  Vehicle type: {my_vehicle.vehicle_type}\")\n",
    "print(f\"  Year: {my_vehicle.year}\")\n",
    "print(f\"  Make: {my_vehicle.make}\")\n",
    "print(f\"  Model: {my_vehicle.model}\")\n",
    "print(f\"  Number of doors: {my_vehicle.doors}\")\n",
    "print(f\"  Type of roof: {my_vehicle.roof}\")\n",
    "\n",
    "    "
   ]
  }
 ],
 "metadata": {
  "kernelspec": {
   "display_name": "Python 3 (ipykernel)",
   "language": "python",
   "name": "python3"
  },
  "language_info": {
   "codemirror_mode": {
    "name": "ipython",
    "version": 3
   },
   "file_extension": ".py",
   "mimetype": "text/x-python",
   "name": "python",
   "nbconvert_exporter": "python",
   "pygments_lexer": "ipython3",
   "version": "3.13.5"
  }
 },
 "nbformat": 4,
 "nbformat_minor": 5
}
